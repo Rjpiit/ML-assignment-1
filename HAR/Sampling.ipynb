{
 "cells": [
  {
   "cell_type": "code",
   "execution_count": 1,
   "metadata": {},
   "outputs": [
    {
     "name": "stdout",
     "output_type": "stream",
     "text": [
      "Processed data saved to C:\\Users\\prave\\OneDrive\\Desktop\\New folder\\processed_laying_sushmita_sample_1.csv\n",
      "Processed data saved to C:\\Users\\prave\\OneDrive\\Desktop\\New folder\\processed_laying_sushmita_sample_2.csv\n",
      "Processed data saved to C:\\Users\\prave\\OneDrive\\Desktop\\New folder\\processed_laying_sushmita_sample_3.csv\n"
     ]
    }
   ],
   "source": [
    "import pandas as pd\n",
    "import os\n",
    "\n",
    "# Specify the folder containing your CSV files\n",
    "folder_path = r\"C:\\Users\\prave\\OneDrive\\Desktop\\New folder\"  # Use raw string to handle backslashes\n",
    "\n",
    "# List all CSV files in the folder\n",
    "csv_files = [f for f in os.listdir(folder_path) if f.endswith('.csv')]\n",
    "\n",
    "# Process each CSV file\n",
    "for file_name in csv_files:\n",
    "    # Full path to the CSV file\n",
    "    file_path = os.path.join(folder_path, file_name)\n",
    "    \n",
    "    # Load the CSV file\n",
    "    data = pd.read_csv(file_path)\n",
    "    \n",
    "    # Convert 'time' to seconds if needed and filter out the first 5 seconds\n",
    "    data = data[data['time'] > 5]\n",
    "\n",
    "    # Convert 'time' column to a timedelta index (assuming 'time' is in seconds)\n",
    "    data['time'] = pd.to_timedelta(data['time'], unit='s')\n",
    "    data.set_index('time', inplace=True)\n",
    "\n",
    "    # Resample data to 50 Hz (50 samples per second)\n",
    "    data_resampled = data.resample('20ms').mean()  # 20ms intervals for 50 Hz\n",
    "\n",
    "    # Drop any NaN values that may have been introduced by resampling\n",
    "    data_resampled.dropna(inplace=True)\n",
    "\n",
    "    # Extract the first 500 samples after the 5-second mark\n",
    "    data_500_samples = data_resampled.head(500)\n",
    "\n",
    "    # Reset the index to remove the 'time' index, making it a regular column again, and then drop it\n",
    "    data_500_samples.reset_index(drop=True, inplace=True)\n",
    "\n",
    "    # Save the processed data to a new CSV file\n",
    "    output_file_path = os.path.join(folder_path, f'processed_{file_name}')\n",
    "    data_500_samples.to_csv(output_file_path, index=False)\n",
    "\n",
    "    print(f\"Processed data saved to {output_file_path}\")\n"
   ]
  },
  {
   "cell_type": "code",
   "execution_count": 2,
   "metadata": {},
   "outputs": [
    {
     "name": "stdout",
     "output_type": "stream",
     "text": [
      "Combined data saved to C:\\Users\\prave\\OneDrive\\Documents\\Collectedata\\processed\\combined_data.csv\n"
     ]
    }
   ],
   "source": [
    "import pandas as pd\n",
    "import glob\n",
    "import os\n",
    "\n",
    "# Folder path where the CSV files are located\n",
    "folder_path = r\"C:\\Users\\prave\\OneDrive\\Documents\\Collectedata\\processed\"\n",
    "\n",
    "# Get a list of all CSV files in the folder\n",
    "file_paths = glob.glob(os.path.join(folder_path, '*.csv'))\n",
    "\n",
    "# Initialize an empty list to hold the data\n",
    "combined_data = []\n",
    "\n",
    "# Loop through each file and read the data\n",
    "for file_path in file_paths:\n",
    "    # Read the CSV file into a DataFrame\n",
    "    df = pd.read_csv(file_path)\n",
    "\n",
    "    # Append the DataFrame to the list\n",
    "    combined_data.append(df)\n",
    "\n",
    "# Concatenate all DataFrames in the list into a single DataFrame\n",
    "combined_df = pd.concat(combined_data, ignore_index=True)\n",
    "\n",
    "# Save the combined DataFrame to a new CSV file\n",
    "combined_file_path = os.path.join(folder_path, 'combined_data.csv')\n",
    "combined_df.to_csv(combined_file_path, index=False)\n",
    "\n",
    "print(f\"Combined data saved to {combined_file_path}\")"
   ]
  }
 ],
 "metadata": {
  "kernelspec": {
   "display_name": "Python 3",
   "language": "python",
   "name": "python3"
  },
  "language_info": {
   "codemirror_mode": {
    "name": "ipython",
    "version": 3
   },
   "file_extension": ".py",
   "mimetype": "text/x-python",
   "name": "python",
   "nbconvert_exporter": "python",
   "pygments_lexer": "ipython3",
   "version": "3.11.1"
  }
 },
 "nbformat": 4,
 "nbformat_minor": 2
}
